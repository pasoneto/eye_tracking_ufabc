{
 "cells": [
  {
   "cell_type": "markdown",
   "metadata": {},
   "source": [
    "# Aula Luisiana\n",
    "## Interquartile range"
   ]
  },
  {
   "cell_type": "code",
   "execution_count": 92,
   "metadata": {},
   "outputs": [
    {
     "data": {
      "text/html": [
       "8"
      ],
      "text/latex": [
       "8"
      ],
      "text/markdown": [
       "8"
      ],
      "text/plain": [
       "[1] 8"
      ]
     },
     "metadata": {},
     "output_type": "display_data"
    },
    {
     "data": {
      "text/html": [
       "<strong>75%:</strong> 9.5"
      ],
      "text/latex": [
       "\\textbf{75\\textbackslash{}\\%:} 9.5"
      ],
      "text/markdown": [
       "**75%:** 9.5"
      ],
      "text/plain": [
       "75% \n",
       "9.5 "
      ]
     },
     "metadata": {},
     "output_type": "display_data"
    }
   ],
   "source": [
    "ex = c(-100, 4, 6, 8, 9, 10, 100)\n",
    "median(ex)\n",
    "quantile(ex)[4]"
   ]
  },
  {
   "cell_type": "code",
   "execution_count": 115,
   "metadata": {
    "scrolled": true
   },
   "outputs": [
    {
     "data": {
      "text/html": [
       "<style>\n",
       ".list-inline {list-style: none; margin:0; padding: 0}\n",
       ".list-inline>li {display: inline-block}\n",
       ".list-inline>li:not(:last-child)::after {content: \"\\00b7\"; padding: 0 .5ex}\n",
       "</style>\n",
       "<ol class=list-inline><li>'-100'</li><li>'4'</li><li>'6'</li><li>'8'</li><li>'9'</li><li>'10'</li><li>'out'</li></ol>\n"
      ],
      "text/latex": [
       "\\begin{enumerate*}\n",
       "\\item '-100'\n",
       "\\item '4'\n",
       "\\item '6'\n",
       "\\item '8'\n",
       "\\item '9'\n",
       "\\item '10'\n",
       "\\item 'out'\n",
       "\\end{enumerate*}\n"
      ],
      "text/markdown": [
       "1. '-100'\n",
       "2. '4'\n",
       "3. '6'\n",
       "4. '8'\n",
       "5. '9'\n",
       "6. '10'\n",
       "7. 'out'\n",
       "\n",
       "\n"
      ],
      "text/plain": [
       "[1] \"-100\" \"4\"    \"6\"    \"8\"    \"9\"    \"10\"   \"out\" "
      ]
     },
     "metadata": {},
     "output_type": "display_data"
    }
   ],
   "source": [
    "out_detector =\n",
    "    function(sample){\n",
    "        limite_inferior = quantile(sample)[2] - IQR(sample)*1.5\n",
    "        limite_superior = quantile(sample)[4] + IQR(sample)*1.5\n",
    "        final = c()\n",
    "        \n",
    "        for(i in 1:length(sample)){\n",
    "            \n",
    "            if(sample[i] <= limite_inferior){\n",
    "                final[[i]] = 'out'\n",
    "            }\n",
    "            \n",
    "            if(sample[i] >= limite_superior){\n",
    "                final[[i]] = 'out'\n",
    "            }\n",
    "            \n",
    "            else{\n",
    "                final[[i]] = sample[i]\n",
    "            }\n",
    "        }\n",
    "        return(final)\n",
    "    }\n",
    "\n",
    "out_detector(ex)"
   ]
  },
  {
   "cell_type": "code",
   "execution_count": null,
   "metadata": {},
   "outputs": [],
   "source": []
  }
 ],
 "metadata": {
  "kernelspec": {
   "display_name": "R",
   "language": "R",
   "name": "ir"
  },
  "language_info": {
   "codemirror_mode": "r",
   "file_extension": ".r",
   "mimetype": "text/x-r-source",
   "name": "R",
   "pygments_lexer": "r",
   "version": "3.4.4"
  }
 },
 "nbformat": 4,
 "nbformat_minor": 4
}
