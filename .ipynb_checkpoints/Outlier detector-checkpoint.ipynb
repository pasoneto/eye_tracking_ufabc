{
 "cells": [
  {
   "cell_type": "markdown",
   "metadata": {},
   "source": [
    "# OUTLIER DETECTOR\n",
    "\n",
    "limite inferior $Q1 - IQR*1.5$ <BR>\n",
    "limite superior $Q3 + IQR*1.5$"
   ]
  },
  {
   "cell_type": "code",
   "execution_count": 5,
   "metadata": {
    "scrolled": true
   },
   "outputs": [],
   "source": [
    "#s is a unidimentional numerical vector. Returns\n",
    "out_detector = function(s){\n",
    "        li = quantile(s)[2] - IQR(s)*1.5; ls = quantile(s)[4] + IQR(s)*1.5; f = c()      \n",
    "        for(i in 1:length(s)){         \n",
    "            if( (s[i] > li) && (s[i] < ls)) {   f[[i]] = s[i]   }\n",
    "            if(s[i] <= li)                  {   f[[i]] = 'low'  }\n",
    "            if(s[i] >= ls)                  {   f[[i]] = 'high' }           \n",
    "            }\n",
    "        return(f)\n",
    "    }"
   ]
  },
  {
   "cell_type": "code",
   "execution_count": 4,
   "metadata": {},
   "outputs": [
    {
     "data": {
      "text/html": [
       "<style>\n",
       ".list-inline {list-style: none; margin:0; padding: 0}\n",
       ".list-inline>li {display: inline-block}\n",
       ".list-inline>li:not(:last-child)::after {content: \"\\00b7\"; padding: 0 .5ex}\n",
       "</style>\n",
       "<ol class=list-inline><li>'1'</li><li>'5'</li><li>'7'</li><li>'2'</li><li>'3'</li><li>'8'</li><li>'high'</li><li>'2'</li><li>'4'</li><li>'8'</li><li>'low'</li></ol>\n"
      ],
      "text/latex": [
       "\\begin{enumerate*}\n",
       "\\item '1'\n",
       "\\item '5'\n",
       "\\item '7'\n",
       "\\item '2'\n",
       "\\item '3'\n",
       "\\item '8'\n",
       "\\item 'high'\n",
       "\\item '2'\n",
       "\\item '4'\n",
       "\\item '8'\n",
       "\\item 'low'\n",
       "\\end{enumerate*}\n"
      ],
      "text/markdown": [
       "1. '1'\n",
       "2. '5'\n",
       "3. '7'\n",
       "4. '2'\n",
       "5. '3'\n",
       "6. '8'\n",
       "7. 'high'\n",
       "8. '2'\n",
       "9. '4'\n",
       "10. '8'\n",
       "11. 'low'\n",
       "\n",
       "\n"
      ],
      "text/plain": [
       " [1] \"1\"    \"5\"    \"7\"    \"2\"    \"3\"    \"8\"    \"high\" \"2\"    \"4\"    \"8\"   \n",
       "[11] \"low\" "
      ]
     },
     "metadata": {},
     "output_type": "display_data"
    }
   ],
   "source": [
    "test = c(1, 5, 7, 2, 3, 8, 100, 2, 4, 8, -20)\n",
    "out_detector(test)"
   ]
  },
  {
   "cell_type": "code",
   "execution_count": null,
   "metadata": {},
   "outputs": [],
   "source": []
  }
 ],
 "metadata": {
  "kernelspec": {
   "display_name": "R",
   "language": "R",
   "name": "ir"
  },
  "language_info": {
   "codemirror_mode": "r",
   "file_extension": ".r",
   "mimetype": "text/x-r-source",
   "name": "R",
   "pygments_lexer": "r",
   "version": "3.4.4"
  }
 },
 "nbformat": 4,
 "nbformat_minor": 4
}
